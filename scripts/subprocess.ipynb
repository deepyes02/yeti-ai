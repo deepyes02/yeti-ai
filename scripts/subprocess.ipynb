{
 "cells": [
  {
   "cell_type": "code",
   "execution_count": 2,
   "id": "7e2ed91b",
   "metadata": {},
   "outputs": [],
   "source": [
    "import subprocess\n",
    "\n"
   ]
  },
  {
   "cell_type": "code",
   "execution_count": null,
   "id": "fa81ba87",
   "metadata": {},
   "outputs": [],
   "source": [
    "try:\n",
    "  result = subprocess.run(\n",
    "    [\"ls\", \"-l\"], capture_output=True, text=True, check=True\n",
    "  )\n",
    "except subprocess.CalledProcessError as e:\n",
    "  raise RuntimeError(f\"Command failed with error: {e.stderr}\") from e"
   ]
  }
 ],
 "metadata": {
  "kernelspec": {
   "display_name": "env (3.11.10)",
   "language": "python",
   "name": "python3"
  },
  "language_info": {
   "codemirror_mode": {
    "name": "ipython",
    "version": 3
   },
   "file_extension": ".py",
   "mimetype": "text/x-python",
   "name": "python",
   "nbconvert_exporter": "python",
   "pygments_lexer": "ipython3",
   "version": "3.11.10"
  }
 },
 "nbformat": 4,
 "nbformat_minor": 5
}
