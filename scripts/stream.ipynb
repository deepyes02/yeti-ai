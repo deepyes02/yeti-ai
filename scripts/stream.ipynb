{
 "cells": [
  {
   "cell_type": "code",
   "execution_count": null,
   "id": "f773befe",
   "metadata": {},
   "outputs": [
    {
     "name": "stdout",
     "output_type": "stream",
     "text": [
      "George Washington was the first President of the United States. He served from April 30, 1789, to March 4, 1797."
     ]
    }
   ],
   "source": [
    "from langchain_ollama import ChatOllama\n",
    "from langchain_community.chat_models import ChatLlamaCpp\n",
    "from langchain_core.messages import HumanMessage, AIMessage\n",
    "from langgraph.checkpoint.memory import MemorySaver\n",
    "from langgraph.graph import START, MessagesState, StateGraph\n",
    "\n",
    "model = ChatOllama(\n",
    "    model=\"llama3.2:1b\",\n",
    "    temperature=0.9, \n",
    "    top_p=0.95, \n",
    "    num_ctx=2048, \n",
    "    repeat_penalty=1.2\n",
    ")\n",
    "#Define a new graph\n",
    "workflow = StateGraph(state_schema=MessagesState)\n",
    "#define a function that calls model\n",
    "def call_model(state: MessagesState):\n",
    "  response = model.invoke(state[\"messages\"])\n",
    "  return {\"messages\" : response}\n",
    "\n",
    "#define a node in the graph\n",
    "workflow.add_edge(START, \"model\")\n",
    "workflow.add_node(\"model\", call_model)\n",
    "\n",
    "#Add memory\n",
    "memory = MemorySaver()\n",
    "app = workflow.compile(checkpointer=memory)\n",
    "config = {\"configurable\" : {\"thread_id\" : \"thread_1\"}}\n",
    "\n",
    "query = \"Who was the first president of the United States?\"\n",
    "input_messages = [HumanMessage(content = query)]\n",
    "\n",
    "for chunk, metadata in app.stream({\"messages\": input_messages}, config=config, stream_mode=\"messages\"):\n",
    "    if isinstance(chunk, AIMessage):\n",
    "      print(chunk.content, end = \"\", flush=True)\n"
   ]
  }
 ],
 "metadata": {
  "kernelspec": {
   "display_name": "env",
   "language": "python",
   "name": "python3"
  },
  "language_info": {
   "codemirror_mode": {
    "name": "ipython",
    "version": 3
   },
   "file_extension": ".py",
   "mimetype": "text/x-python",
   "name": "python",
   "nbconvert_exporter": "python",
   "pygments_lexer": "ipython3",
   "version": "3.11.10"
  }
 },
 "nbformat": 4,
 "nbformat_minor": 5
}
