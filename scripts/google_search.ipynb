{
 "cells": [
  {
   "cell_type": "code",
   "execution_count": 12,
   "id": "e05d2537",
   "metadata": {},
   "outputs": [
    {
     "name": "stdout",
     "output_type": "stream",
     "text": [
      "file search-results.json written\n"
     ]
    }
   ],
   "source": [
    "import requests\n",
    "import os\n",
    "import json\n",
    "from pathlib import Path\n",
    "from dotenv import load_dotenv\n",
    "\n",
    "## this is only for notebook as it can't resolve paths, for advanced integration, use load_dotenv with path to the env file\n",
    "env_path = Path.cwd() / \".env\"\n",
    "load_dotenv(dotenv_path=env_path)\n",
    "\n",
    "api_key = os.environ.get(\"GOOGLE_SEARCH_API_KEY\")\n",
    "custom_search_engine_id = os.environ.get(\"GOOGLE_SEARCH_ENGINE_ID\")\n",
    "query = \"yen to peso\"\n",
    "url = \"https://www.googleapis.com/customsearch/v1\"\n",
    "params = {\"key\": api_key, \"cx\": custom_search_engine_id, \"q\": query, \"safe\": \"active\"}\n",
    "\n",
    "response = requests.get(url=url, params=params)\n",
    "data = response.json()\n",
    "\n",
    "dump_file_name = \"search-results.json\"\n",
    "\n",
    "with open(\"search-results.json\", \"w\") as file:\n",
    "    json.dump(data, file, ensure_ascii=False, indent=2)\n",
    "\n",
    "print(f\"file {dump_file_name} written\")"
   ]
  },
  {
   "cell_type": "code",
   "execution_count": null,
   "id": "ebef34d9",
   "metadata": {},
   "outputs": [
    {
     "name": "stdout",
     "output_type": "stream",
     "text": [
      "[{'title': 'Smiles Mobile Remittance Joins Appreciation Event for Philippine ...', 'image': 'https://www.smileswallet.com/japan/wp-content/themes/smilesremit/src/images/section-blog/smiles-logo-white.png', 'thumbnail': 'https://tse2.mm.bing.net/th?id=OIP.zK_zCXl8E55dUc2gMN-UDgHaC6&pid=Api', 'url': 'https://www.smileswallet.com/japan/smiles-joins-appreciation-event-for-philippine-festival-2024-sponsors/', 'height': 240, 'width': 610, 'source': 'Bing'}, {'title': 'Dịch vụ phát triển ứng dụng cao cấp mobileDMP của Digital Wallet ...', 'image': 'https://www.smileswallet.com/japan/wp-content/uploads/sites/9/2022/08/MicrosoftTeams-image-187-2-768x1600.png', 'thumbnail': 'https://tse1.mm.bing.net/th?id=OIP.Gx9LQVeO2WVn8iyWvO633AHaPb&pid=Api', 'url': 'https://www.smileswallet.com/japan/vi/dich-vu-phat-trien-ung-dung-cao-cap-mobiledmp-cua-digital-wallet-corporation/', 'height': 1600, 'width': 768, 'source': 'Bing'}, {'title': 'How to Open an SMBC Trust Bank Account Online: A Step-by-step Guide ...', 'image': 'https://www.smileswallet.com/japan/wp-content/uploads/sites/9/2021/06/2-2.png', 'thumbnail': 'https://tse2.mm.bing.net/th?id=OIP.vjXICoQO653TogbDDsIG6AHaNK&pid=Api', 'url': 'https://www.smileswallet.com/japan/how-to-open-an-smbc-bank-account-online-guide/', 'height': 1920, 'width': 1080, 'source': 'Bing'}, {'title': 'Exchange Rates | Smiles Mobile Remittance', 'image': 'https://www.smileswallet.com/japan/wp-content/themes/smilesremit/src/images/footer/appStore.jpg', 'thumbnail': 'https://tse2.mm.bing.net/th?id=OIP.KiXIOSOc9G94lkWddUeTrQAAAA&pid=Api', 'url': 'https://www.smileswallet.com/japan/exchange-rates/', 'height': 76, 'width': 228, 'source': 'Bing'}, {'title': 'How to Print Documents in Combini Using your Smartphone | Smiles Mobile ...', 'image': 'https://www.smileswallet.com/japan/wp-content/uploads/sites/9/2021/09/famima-2.png', 'thumbnail': 'https://tse1.mm.bing.net/th?id=OIP.6Ax6KQzuvbAcAGuII-K6CgHaFj&pid=Api', 'url': 'https://www.smileswallet.com/japan/how-to-print-documents-in-combini-using-your-smartphone/', 'height': 585, 'width': 780, 'source': 'Bing'}, {'title': 'How to Receive Unemployment Benefits in Japan | Smiles Mobile ...', 'image': 'https://www.smileswallet.com/japan/wp-content/uploads/sites/9/2021/10/unemployment-benefits-charts-2-1024x231.jpg', 'thumbnail': 'https://tse2.mm.bing.net/th?id=OIP.TmpPpSF8uy7Q8wyCVLQayQHaBq&pid=Api', 'url': 'https://www.smileswallet.com/japan/how-to-receive-unemployment-benefits-in-japan/', 'height': 231, 'width': 1024, 'source': 'Bing'}, {'title': 'How to Print Documents in Combini Using your Smartphone | Smiles Mobile ...', 'image': 'https://www.smileswallet.com/japan/wp-content/uploads/sites/9/2021/09/famima.png', 'thumbnail': 'https://tse2.mm.bing.net/th?id=OIP.RnrFsQsgKNafZkeldEmAbgHaFj&pid=Api', 'url': 'https://www.smileswallet.com/japan/how-to-print-documents-in-combini-using-your-smartphone/', 'height': 585, 'width': 780, 'source': 'Bing'}, {'title': 'Western Union Exchange Rates and Fees | Smiles Mobile Remittance Canada ...', 'image': 'https://www.smileswallet.com/canada/wp-content/uploads/sites/5/2023/08/Western-Union-Fees-2048x1075.png', 'thumbnail': 'https://tse2.mm.bing.net/th?id=OIP.urAfvXGz-j12Mi_NQP61mwHaD4&pid=Api', 'url': 'https://www.smileswallet.com/canada/western-union-exchange-rates-and-fees/', 'height': 1075, 'width': 2048, 'source': 'Bing'}, {'title': 'How to Receive Unemployment Benefits in Japan | Smiles Mobile ...', 'image': 'https://www.smileswallet.com/japan/wp-content/uploads/sites/9/2021/10/unemployment-benefits-charts-1.jpg', 'thumbnail': 'https://tse1.mm.bing.net/th?id=OIP.-1hpm8pXV3C7F4ta6JG3CAHaCY&pid=Api', 'url': 'https://www.smileswallet.com/japan/how-to-receive-unemployment-benefits-in-japan/', 'height': 545, 'width': 1696, 'source': 'Bing'}, {'title': 'Hướng dẫn đăng ký Yucho Ninsho ゆうちょ認識 | Smiles Mobile Remittance | No.1 ...', 'image': 'https://www.smileswallet.com/japan/wp-content/uploads/sites/9/2020/07/qr_ninshou_android.png', 'thumbnail': 'https://tse2.mm.bing.net/th?id=OIP.WjxJ-tKJtrQWIu3gpkBjVQAAAA&pid=Api', 'url': 'https://www.smileswallet.com/japan/vi/huong-dan-dang-ky-yucho-ninsho-ゆうちょ認証/', 'height': 135, 'width': 135, 'source': 'Bing'}]\n"
     ]
    }
   ],
   "source": []
  }
 ],
 "metadata": {
  "kernelspec": {
   "display_name": "env",
   "language": "python",
   "name": "python3"
  },
  "language_info": {
   "codemirror_mode": {
    "name": "ipython",
    "version": 3
   },
   "file_extension": ".py",
   "mimetype": "text/x-python",
   "name": "python",
   "nbconvert_exporter": "python",
   "pygments_lexer": "ipython3",
   "version": "3.11.10"
  }
 },
 "nbformat": 4,
 "nbformat_minor": 5
}
