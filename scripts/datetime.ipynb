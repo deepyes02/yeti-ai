{
 "cells": [
  {
   "cell_type": "code",
   "execution_count": 2,
   "id": "ffe62545",
   "metadata": {},
   "outputs": [
    {
     "data": {
      "text/plain": [
       "'2025-07-01 17:19:56'"
      ]
     },
     "execution_count": 2,
     "metadata": {},
     "output_type": "execute_result"
    }
   ],
   "source": [
    "from datetime import datetime\n",
    "\n",
    "# Configure logging\n",
    "def get_current_datetime():\n",
    "    \"\"\"Return the current date and time as a string when user asks for date or time.\"\"\"\n",
    "    now = datetime.now()\n",
    "    current_datetime = now.strftime(\"%Y-%m-%d %H:%M:%S\")\n",
    "    return current_datetime\n",
    "\n",
    "get_current_datetime()\n"
   ]
  }
 ],
 "metadata": {
  "kernelspec": {
   "display_name": "env (3.11.10)",
   "language": "python",
   "name": "python3"
  },
  "language_info": {
   "codemirror_mode": {
    "name": "ipython",
    "version": 3
   },
   "file_extension": ".py",
   "mimetype": "text/x-python",
   "name": "python",
   "nbconvert_exporter": "python",
   "pygments_lexer": "ipython3",
   "version": "3.11.10"
  }
 },
 "nbformat": 4,
 "nbformat_minor": 5
}
