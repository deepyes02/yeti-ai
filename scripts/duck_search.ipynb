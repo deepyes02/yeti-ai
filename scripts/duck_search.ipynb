{
 "cells": [
  {
   "cell_type": "code",
   "execution_count": 2,
   "id": "e05d2537",
   "metadata": {},
   "outputs": [
    {
     "name": "stdout",
     "output_type": "stream",
     "text": [
      "[{'title': 'Smiles Mobile Remittance Joins Appreciation Event for Philippine ...', 'href': 'https://digitalwallet.global/news/smiles-joins-appreciation-event-for-philippine-festival-2024-sponsors/', 'body': \"As the major sponsor of the Philippine Festival Tokyo 2024, Smiles Mobile Remittance was invited to join fellow contributors, community leaders and volunteers in reflecting on the festival's impact and looking ahead to future collaborations. Event highlights The event featured a couple of memorable moments, including:\"}, {'title': 'Positive Turnout at Philippine Festival Tokyo: A Celebration of ...', 'href': 'https://digitalwallet.global/news/positive-turnout-at-philippine-festival-tokyo-a-celebration-of-filipino-unity-and-culture/', 'body': 'Overall, Philippine Festival Tokyo proved to be a remarkable gathering, showcasing the strength and unity of the Filipino community in Japan. Smiles Mobile Remittance extends its congratulations to the Philippine Festival Tokyo Organizing Committee and looks forward to continued partnerships that uplift and celebrate the Filipino spirit in Japan.'}, {'title': 'Smiles Mobile Remittance Signs on Again as Major Sponsor of Philippine ...', 'href': 'https://digitalwallet.global/news/smiles-mobile-remittance-signs-on-again-as-major-sponsor-of-philippine-festival-2024-support-from-philippine-ambassador-mylene-j-garcia-albano/', 'body': \"The festival's importance is further strengthened by the leadership of PAG Chairman Berlito Toots Capulong, officially recognized by the Philippine Embassy. Smiles Mobile Remittance is proud to support an event that showcases the solidity and joy of the Filipino people and celebrates the strong bond between the Philippines and Japan.\"}, {'title': \"Japan's Number One Smiles Mobile Remittance Welcomes Gabby Concepcion ...\", 'href': 'https://digitalwallet.global/news/smiles-mobile-remittance-welcomes-gabby-concepcion-as-partner-in-smiles-corporate-social-investment/', 'body': \"Tokyo, Japan, Oct 22, 2024 - Smiles Mobile Remittance, a leading fintech service revolutionizing the way overseas Filipino workers (OFWs) send money home, proudly announces its signing with well-known Filipino actor, Gabby Concepcion. A ceremony was held recently to mark the beginning of this exciting collaboration, as Gabby becomes Smiles' ambassador for its corporate social investment.\"}, {'title': 'Smiles Mobile Remittance Philippines Continues 3rd Annual \"One Million ...', 'href': 'https://digitalwallet.global/news/smiles-mobile-remittance-philippines-continues-3rd-annual-one-million-smiles-program-inviting-the-global-community-to-share-smiles/', 'body': 'Tokyo, Japan - Smiles Mobile Remittance, the most popular mobile money transfer service in Japan and Good Design Award 2021 recipient, and its Philippines team are thrilled to announce the return of its highly anticipated \"One Million Smiles\" program for the third consecutive year. With this heartwarming initiative, Smiles aims to spread joy and support the Filipino community while ...'}, {'title': \"Smiles Mobile Remittance, Japan's No.1 Service, Becomes Proud Major ...\", 'href': 'https://digitalwallet.global/news/smiles-mobile-remittance-japans-no-1-service-becomes-proud-major-sponsor-of-philippine-festival-2023-in-tokyo-to-contribute-to-global-society-after-covid-19/', 'body': 'The Philippine Festival 2023, organized by the esteemed Philippine Assistance Group (PAG) Festival Committee in collaboration with the Embassy of the Philippines in Tokyo, will be holding the event at Yoyogi Park on Nov 25 and 26, 2023.'}, {'title': 'Smiles Mobile Remittance at the Philippine Festival Tokyo, wins second ...', 'href': 'https://digitalwallet.global/news/smiles-mobile-remittance-at-the-philippine-festival-tokyo-wins-second-best-booth/', 'body': 'Once the Festival came to a close, the Department of Tourism (Philippines) awarded the best booths with cash prizes and an official certificate. Out of about 50 booths, Smiles Mobile Remittance was ranked second place.'}, {'title': 'Digital Wallet Corporation acquires International Money Transfer ...', 'href': 'https://digitalwallet.global/news/digital-wallet-corporation-acquires-international-money-transfer-service-company-of-seven-eleven-group-japan/', 'body': \"Becomes Japan's No.1 Remittance Service with over 77,000 ATMs nationwide TOKYO, JAPAN, 9 February 2024 - Global IT and fintech company, Digital Wallet Corporation (DWC), has reached an agreement with Seven Bank, Ltd (Seven Bank), a Japanese bank run by Seven & i Holdings Co Ltd, operating Seven-Eleven stores in Japan, to acquire its subsidiary and international money transfer service ...\"}, {'title': 'Digital Wallet Global - Fintech for the globe.', 'href': 'https://digitalwallet.global/', 'body': \"Digital Wallet team members have rich backgrounds in the technology field. Some of our members are former employees of Sony Corporation and others used to work for global cloud services as expert engineers and designers. We're proud of our team as they also are passionate to help Digital Wallet strengthen the global economy with fintech and AI.\"}, {'title': 'Smiles Goes to Aichi Prefecture to meet Filipino Trainee Community', 'href': 'https://digitalwallet.global/news/smiles-goes-to-aichi-prefecture-to-meet-filipino-trainee-community/', 'body': 'On April 12, 2023, Smiles Philippines Teamtraveled to Aichi Prefecture in Nagoya to meet with the Filipino trainee community who are just starting their lives in Japan. Smiles sparked relationships and interacted with almost 100 trainees to share how the remittance service can help them support their loved ones back home in the Philippines.'}]\n"
     ]
    }
   ],
   "source": [
    "from duckduckgo_search import DDGS\n",
    "query = (\n",
    "  \"Philippines Festival 2025\"\n",
    "  \"site:smileswallet.com OR site:digitalwallet.global OR site:smilesconnect.com\"\n",
    ")\n",
    "with DDGS() as ddgs:\n",
    "  results = ddgs.text(query, max_results=10)\n",
    "print(results)"
   ]
  },
  {
   "cell_type": "code",
   "execution_count": 3,
   "id": "ebef34d9",
   "metadata": {},
   "outputs": [
    {
     "name": "stdout",
     "output_type": "stream",
     "text": [
      "[{'title': 'Smiles Mobile Remittance Joins Appreciation Event for Philippine ...', 'image': 'https://www.smileswallet.com/japan/wp-content/themes/smilesremit/src/images/section-blog/smiles-logo-white.png', 'thumbnail': 'https://tse2.mm.bing.net/th?id=OIP.zK_zCXl8E55dUc2gMN-UDgHaC6&pid=Api', 'url': 'https://www.smileswallet.com/japan/smiles-joins-appreciation-event-for-philippine-festival-2024-sponsors/', 'height': 240, 'width': 610, 'source': 'Bing'}, {'title': 'Dịch vụ phát triển ứng dụng cao cấp mobileDMP của Digital Wallet ...', 'image': 'https://www.smileswallet.com/japan/wp-content/uploads/sites/9/2022/08/MicrosoftTeams-image-187-2-768x1600.png', 'thumbnail': 'https://tse1.mm.bing.net/th?id=OIP.Gx9LQVeO2WVn8iyWvO633AHaPb&pid=Api', 'url': 'https://www.smileswallet.com/japan/vi/dich-vu-phat-trien-ung-dung-cao-cap-mobiledmp-cua-digital-wallet-corporation/', 'height': 1600, 'width': 768, 'source': 'Bing'}, {'title': 'How to Open an SMBC Trust Bank Account Online: A Step-by-step Guide ...', 'image': 'https://www.smileswallet.com/japan/wp-content/uploads/sites/9/2021/06/2-2.png', 'thumbnail': 'https://tse2.mm.bing.net/th?id=OIP.vjXICoQO653TogbDDsIG6AHaNK&pid=Api', 'url': 'https://www.smileswallet.com/japan/how-to-open-an-smbc-bank-account-online-guide/', 'height': 1920, 'width': 1080, 'source': 'Bing'}, {'title': 'Exchange Rates | Smiles Mobile Remittance', 'image': 'https://www.smileswallet.com/japan/wp-content/themes/smilesremit/src/images/footer/appStore.jpg', 'thumbnail': 'https://tse2.mm.bing.net/th?id=OIP.KiXIOSOc9G94lkWddUeTrQAAAA&pid=Api', 'url': 'https://www.smileswallet.com/japan/exchange-rates/', 'height': 76, 'width': 228, 'source': 'Bing'}, {'title': 'How to Print Documents in Combini Using your Smartphone | Smiles Mobile ...', 'image': 'https://www.smileswallet.com/japan/wp-content/uploads/sites/9/2021/09/famima-2.png', 'thumbnail': 'https://tse1.mm.bing.net/th?id=OIP.6Ax6KQzuvbAcAGuII-K6CgHaFj&pid=Api', 'url': 'https://www.smileswallet.com/japan/how-to-print-documents-in-combini-using-your-smartphone/', 'height': 585, 'width': 780, 'source': 'Bing'}, {'title': 'How to Receive Unemployment Benefits in Japan | Smiles Mobile ...', 'image': 'https://www.smileswallet.com/japan/wp-content/uploads/sites/9/2021/10/unemployment-benefits-charts-2-1024x231.jpg', 'thumbnail': 'https://tse2.mm.bing.net/th?id=OIP.TmpPpSF8uy7Q8wyCVLQayQHaBq&pid=Api', 'url': 'https://www.smileswallet.com/japan/how-to-receive-unemployment-benefits-in-japan/', 'height': 231, 'width': 1024, 'source': 'Bing'}, {'title': 'How to Print Documents in Combini Using your Smartphone | Smiles Mobile ...', 'image': 'https://www.smileswallet.com/japan/wp-content/uploads/sites/9/2021/09/famima.png', 'thumbnail': 'https://tse2.mm.bing.net/th?id=OIP.RnrFsQsgKNafZkeldEmAbgHaFj&pid=Api', 'url': 'https://www.smileswallet.com/japan/how-to-print-documents-in-combini-using-your-smartphone/', 'height': 585, 'width': 780, 'source': 'Bing'}, {'title': 'Western Union Exchange Rates and Fees | Smiles Mobile Remittance Canada ...', 'image': 'https://www.smileswallet.com/canada/wp-content/uploads/sites/5/2023/08/Western-Union-Fees-2048x1075.png', 'thumbnail': 'https://tse2.mm.bing.net/th?id=OIP.urAfvXGz-j12Mi_NQP61mwHaD4&pid=Api', 'url': 'https://www.smileswallet.com/canada/western-union-exchange-rates-and-fees/', 'height': 1075, 'width': 2048, 'source': 'Bing'}, {'title': 'How to Receive Unemployment Benefits in Japan | Smiles Mobile ...', 'image': 'https://www.smileswallet.com/japan/wp-content/uploads/sites/9/2021/10/unemployment-benefits-charts-1.jpg', 'thumbnail': 'https://tse1.mm.bing.net/th?id=OIP.-1hpm8pXV3C7F4ta6JG3CAHaCY&pid=Api', 'url': 'https://www.smileswallet.com/japan/how-to-receive-unemployment-benefits-in-japan/', 'height': 545, 'width': 1696, 'source': 'Bing'}, {'title': 'Hướng dẫn đăng ký Yucho Ninsho ゆうちょ認識 | Smiles Mobile Remittance | No.1 ...', 'image': 'https://www.smileswallet.com/japan/wp-content/uploads/sites/9/2020/07/qr_ninshou_android.png', 'thumbnail': 'https://tse2.mm.bing.net/th?id=OIP.WjxJ-tKJtrQWIu3gpkBjVQAAAA&pid=Api', 'url': 'https://www.smileswallet.com/japan/vi/huong-dan-dang-ky-yucho-ninsho-ゆうちょ認証/', 'height': 135, 'width': 135, 'source': 'Bing'}]\n"
     ]
    }
   ],
   "source": [
    "image_results = DDGS().images(\n",
    "    keywords=\"smiles mobile remittance\",\n",
    "    region=\"wt-wt\",\n",
    "    safesearch=\"on\",\n",
    "    size=None,\n",
    "    color=\"Monochrome\",\n",
    "    type_image=None,\n",
    "    layout=None,\n",
    "    license_image=None,\n",
    "    max_results=10,\n",
    ")\n",
    "print(image_results)"
   ]
  }
 ],
 "metadata": {
  "kernelspec": {
   "display_name": "env (3.11.10)",
   "language": "python",
   "name": "python3"
  },
  "language_info": {
   "codemirror_mode": {
    "name": "ipython",
    "version": 3
   },
   "file_extension": ".py",
   "mimetype": "text/x-python",
   "name": "python",
   "nbconvert_exporter": "python",
   "pygments_lexer": "ipython3",
   "version": "3.11.10"
  }
 },
 "nbformat": 4,
 "nbformat_minor": 5
}
