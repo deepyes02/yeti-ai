{
 "cells": [
  {
   "cell_type": "code",
   "execution_count": null,
   "id": "21d64f10",
   "metadata": {},
   "outputs": [],
   "source": [
    "from langchain.chat_models import ChatOpenAI\n",
    "from langchain.agents import initialize_agent, AgentType, Tool\n",
    "from langchain.tools import tool\n",
    "\n",
    "@tool\n",
    "def get_weather(location:str) -> str:\n",
    "    \"\"\"Get the current weather for a given location.\"\"\"\n",
    "    # This is a placeholder implementation. Replace with actual weather fetching logic.\n",
    "    return f\"The current weather in {location} is sunny with a temperature of 25°C.\"\n",
    "\n",
    "tools = [get_weather]\n",
    "\n",
    "llama_model = ChatOpenAI(\n",
    "    openai_api_base=\"http://localhost:8080/v1\",\n",
    "    openai_api_key=\"dummy\",  # llama.cpp ignores this\n",
    "    model=\"mistral-nemo\",\n",
    ")\n",
    "\n",
    "agent = initialize_agent(\n",
    "  tools=tools,\n",
    "  llm=llama_model,\n",
    "  agent_type=AgentType.OPENAI_FUNCTIONS,\n",
    "  verbose=True,\n",
    ")\n",
    "\n",
    "response = agent.run(\"What's the weather like in New York?\")\n",
    "print(response)"
   ]
  }
 ],
 "metadata": {
  "kernelspec": {
   "display_name": "env",
   "language": "python",
   "name": "python3"
  },
  "language_info": {
   "codemirror_mode": {
    "name": "ipython",
    "version": 3
   },
   "file_extension": ".py",
   "mimetype": "text/x-python",
   "name": "python",
   "nbconvert_exporter": "python",
   "pygments_lexer": "ipython3",
   "version": "3.11.10"
  }
 },
 "nbformat": 4,
 "nbformat_minor": 5
}
