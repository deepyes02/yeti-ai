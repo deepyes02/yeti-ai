{
 "cells": [
  {
   "cell_type": "code",
   "execution_count": 13,
   "id": "21d64f10",
   "metadata": {},
   "outputs": [
    {
     "name": "stdout",
     "output_type": "stream",
     "text": [
      "\n",
      "\n",
      "\u001b[1m> Entering new AgentExecutor chain...\u001b[0m\n",
      "To answer this question, I need to get the current weather for San Francisco.\n",
      "\n",
      "Action: get_weather\n",
      "\n",
      "Action Input: \"San Francisco\"\u001b[32;1m\u001b[1;3mTo answer this question, I need to get the current weather for San Francisco.\n",
      "\n",
      "Action: get_weather\n",
      "\n",
      "Action Input: \"San Francisco\"\u001b[0m\n",
      "Observation: \u001b[36;1m\u001b[1;3mThe current weather in San Francisco is sunny.\u001b[0m\n",
      "Thought:I now know the final answer\n",
      "\n",
      "Final Answer: The current weather in San Francisco is sunny.\u001b[32;1m\u001b[1;3mI now know the final answer\n",
      "\n",
      "Final Answer: The current weather in San Francisco is sunny.\u001b[0m\n",
      "\n",
      "\u001b[1m> Finished chain.\u001b[0m\n",
      "The current weather in San Francisco is sunny."
     ]
    }
   ],
   "source": [
    "from langchain_openai import ChatOpenAI\n",
    "from langchain.agents import initialize_agent, AgentType, Tool\n",
    "from langchain.tools import tool\n",
    "from pydantic import SecretStr\n",
    "from langchain_core.runnables import RunnableConfig\n",
    "from langgraph.graph import START, MessagesState, StateGraph\n",
    "from langgraph.checkpoint.memory import MemorySaver\n",
    "from langchain_core.messages import HumanMessage, AIMessage\n",
    "\n",
    "\n",
    "@tool\n",
    "def get_weather(location: str) -> str:\n",
    "    \"\"\"Get the current weather for a given location.\"\"\"\n",
    "    # This is a placeholder implementation. Replace with actual weather fetching logic.\n",
    "    return f\"The current weather in {location} is sunny.\"\n",
    "\n",
    "\n",
    "tools = [get_weather]\n",
    "config: RunnableConfig = {\"configurable\": {\"thread_id\": 1}}\n",
    "\n",
    "\n",
    "model = ChatOpenAI(\n",
    "    base_url=\"http://localhost:8080/v1\",\n",
    "    api_key=SecretStr(\"dummy\"),  # llama.cpp ignores this\n",
    "    model=\"mistral-nemo\",\n",
    ")\n",
    "\n",
    "\n",
    "agent = initialize_agent(\n",
    "    tools=tools,\n",
    "    llm=model,\n",
    "    agent_type=AgentType.OPENAI_FUNCTIONS,\n",
    "    verbose=True,\n",
    ")\n",
    "\n",
    "\n",
    "def call_model(state: MessagesState):\n",
    "    response = agent.invoke({\"input\": state[\"messages\"]})\n",
    "    return {\"messages\": state[\"messages\"] + [AIMessage(content=response[\"output\"])]}\n",
    "\n",
    "\n",
    "workflow = StateGraph(state_schema=MessagesState)\n",
    "workflow.add_edge(START, \"model\")\n",
    "workflow.add_node(\"model\", call_model)\n",
    "memory = MemorySaver()\n",
    "app = workflow.compile(checkpointer=memory)\n",
    "config: RunnableConfig = {\"configurable\": {\"thread_id\": \"1\"}}\n",
    "query = \"Hi, my name is Deepesh, What's the weather like in San Francisco? Please call the tool and respond whatever it returns\"\n",
    "input_messages = [HumanMessage(content=query)]\n",
    "\n",
    "for chunk, metadata in app.stream(\n",
    "    {\"messages\": input_messages}, config=config, stream_mode=\"messages\"\n",
    "):\n",
    "    if isinstance(chunk, AIMessage):\n",
    "        print(chunk.content, end=\"\", flush=True)"
   ]
  },
  {
   "cell_type": "code",
   "execution_count": null,
   "id": "a2afe581",
   "metadata": {},
   "outputs": [],
   "source": []
  },
  {
   "cell_type": "code",
   "execution_count": null,
   "id": "ba8175d5",
   "metadata": {},
   "outputs": [],
   "source": []
  }
 ],
 "metadata": {
  "kernelspec": {
   "display_name": "env",
   "language": "python",
   "name": "python3"
  },
  "language_info": {
   "codemirror_mode": {
    "name": "ipython",
    "version": 3
   },
   "file_extension": ".py",
   "mimetype": "text/x-python",
   "name": "python",
   "nbconvert_exporter": "python",
   "pygments_lexer": "ipython3",
   "version": "3.11.10"
  }
 },
 "nbformat": 4,
 "nbformat_minor": 5
}
