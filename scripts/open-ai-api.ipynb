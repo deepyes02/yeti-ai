{
 "cells": [
  {
   "cell_type": "code",
   "execution_count": 13,
   "id": "21d64f10",
   "metadata": {},
   "outputs": [
    {
     "name": "stdout",
     "output_type": "stream",
     "text": [
      "I need to get the exchange rate between JPY and NPR.\n",
      "Action: get_rate\n",
      "Action Input: JPY,NPRI now know the final answer\n",
      "Final Answer: The current exchange rate between JPY and NPR is 5.6 NPR per JPY.The current exchange rate between JPY and NPR is 5.6 NPR per JPY."
     ]
    }
   ],
   "source": [
    "from langchain_openai import ChatOpenAI\n",
    "from langchain.agents import initialize_agent, AgentType, Tool\n",
    "from langchain.tools import tool\n",
    "from pydantic import SecretStr\n",
    "from langchain_core.runnables import RunnableConfig\n",
    "from langgraph.graph import START, MessagesState, StateGraph\n",
    "from langgraph.checkpoint.memory import MemorySaver\n",
    "from langchain_core.messages import HumanMessage, AIMessage\n",
    "\n",
    "\n",
    "@tool\n",
    "def get_weather(location: str) -> str:\n",
    "    \"\"\"Get the current weather for a given location.\"\"\"\n",
    "    return f\"The current weather in {location} is sunny.\"\n",
    "\n",
    "@tool\n",
    "def get_rate(currencies) -> str:\n",
    "    \"\"\"Get exchange rate between two currencies. The input should be comma separated value between two currencies, e.g USD,INR\"\"\"\n",
    "    try:\n",
    "      currency1, currency2 = currencies.split(',')\n",
    "      return f\"The exchange rate from {currency1} to {currency2} is 5.6\"\n",
    "    except ValueError:\n",
    "      return \"Invalid input format. Please provide currencies\"\n",
    "\n",
    "\n",
    "tools = [get_weather, get_rate]\n",
    "config: RunnableConfig = {\"configurable\": {\"thread_id\": 1}}\n",
    "\n",
    "\n",
    "model = ChatOpenAI(\n",
    "    base_url=\"http://localhost:8080/v1\",\n",
    "    api_key=SecretStr(\"dummy\"),  # llama.cpp ignores this\n",
    "    model=\"mistral-nemo\",\n",
    ")\n",
    "\n",
    "\n",
    "agent = initialize_agent(\n",
    "    tools=tools,\n",
    "    llm=model,\n",
    "    agent_type=AgentType.OPENAI_FUNCTIONS,\n",
    "    verbose=False,\n",
    ")\n",
    "\n",
    "\n",
    "def call_model(state: MessagesState):\n",
    "    response = agent.invoke({\"input\": state[\"messages\"]})\n",
    "    return {\"messages\": state[\"messages\"] + [AIMessage(content=response[\"output\"])]}\n",
    "\n",
    "\n",
    "workflow = StateGraph(state_schema=MessagesState)\n",
    "workflow.add_edge(START, \"model\")\n",
    "workflow.add_node(\"model\", call_model)\n",
    "memory = MemorySaver()\n",
    "app = workflow.compile(checkpointer=memory)\n",
    "config: RunnableConfig = {\"configurable\": {\"thread_id\": \"1\"}}\n",
    "query = \"Hi, what's the current exchange rate between JPY and NPR? Please call the tool and respond whatever it returns\"\n",
    "input_messages = [HumanMessage(content=query)]\n",
    "\n",
    "for chunk, metadata in app.stream(\n",
    "    {\"messages\": input_messages}, config=config, stream_mode=\"messages\"\n",
    "):\n",
    "    if isinstance(chunk, AIMessage):\n",
    "        print(chunk.content, end=\"\", flush=True)"
   ]
  },
  {
   "cell_type": "code",
   "execution_count": null,
   "id": "a2afe581",
   "metadata": {},
   "outputs": [],
   "source": []
  },
  {
   "cell_type": "code",
   "execution_count": null,
   "id": "ba8175d5",
   "metadata": {},
   "outputs": [],
   "source": []
  }
 ],
 "metadata": {
  "kernelspec": {
   "display_name": "env",
   "language": "python",
   "name": "python3"
  },
  "language_info": {
   "codemirror_mode": {
    "name": "ipython",
    "version": 3
   },
   "file_extension": ".py",
   "mimetype": "text/x-python",
   "name": "python",
   "nbconvert_exporter": "python",
   "pygments_lexer": "ipython3",
   "version": "3.11.10"
  }
 },
 "nbformat": 4,
 "nbformat_minor": 5
}
