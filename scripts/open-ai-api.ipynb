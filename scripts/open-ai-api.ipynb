{
 "cells": [
  {
   "cell_type": "code",
   "execution_count": null,
   "id": "21d64f10",
   "metadata": {},
   "outputs": [
    {
     "name": "stderr",
     "output_type": "stream",
     "text": [
      "/var/folders/h5/n3dw4g4j78j6h7xpz25xcpm80000gp/T/ipykernel_93497/3351518204.py:19: LangChainDeprecationWarning: LangChain agents will continue to be supported, but it is recommended for new use cases to be built with LangGraph. LangGraph offers a more flexible and full-featured framework for building agents, including support for tool-calling, persistence of state, and human-in-the-loop workflows. For details, refer to the `LangGraph documentation <https://langchain-ai.github.io/langgraph/>`_ as well as guides for `Migrating from AgentExecutor <https://python.langchain.com/docs/how_to/migrate_agent/>`_ and LangGraph's `Pre-built ReAct agent <https://langchain-ai.github.io/langgraph/how-tos/create-react-agent/>`_.\n",
      "  agent = initialize_agent(\n",
      "/var/folders/h5/n3dw4g4j78j6h7xpz25xcpm80000gp/T/ipykernel_93497/3351518204.py:26: LangChainDeprecationWarning: The method `Chain.run` was deprecated in langchain 0.1.0 and will be removed in 1.0. Use :meth:`~invoke` instead.\n",
      "  response = agent.run(\"What's the weather like in New York?\")\n"
     ]
    },
    {
     "name": "stdout",
     "output_type": "stream",
     "text": [
      "\n",
      "\n",
      "\u001b[1m> Entering new AgentExecutor chain...\u001b[0m\n",
      "\u001b[32;1m\u001b[1;3mI need to find out the current weather in New York.\n",
      "Action: get_weather\n",
      "Action Input: \"New York\"\u001b[0m\n",
      "Observation: \u001b[36;1m\u001b[1;3mThe current weather in New York is sunny with a temperature of 25°C.\u001b[0m\n",
      "Thought:\u001b[32;1m\u001b[1;3mI now know the final answer.\n",
      "Final Answer: The current weather in New York is sunny with a temperature of 25°C.\u001b[0m\n",
      "\n",
      "\u001b[1m> Finished chain.\u001b[0m\n",
      "The current weather in New York is sunny with a temperature of 25°C.\n"
     ]
    }
   ],
   "source": [
    "from langchain.chat_models import ChatOpenAI\n",
    "from langchain.agents import initialize_agent, AgentType, Tool\n",
    "from langchain.tools import tool\n",
    "\n",
    "@tool\n",
    "def get_weather(location:str) -> str:\n",
    "    \"\"\"Get the current weather for a given location.\"\"\"\n",
    "    # This is a placeholder implementation. Replace with actual weather fetching logic.\n",
    "    return f\"The current weather in {location} is sunny.\"\n",
    "\n",
    "tools = [get_weather]\n",
    "\n",
    "llama_model = ChatOpenAI(\n",
    "    openai_api_base=\"http://localhost:8080/v1\",\n",
    "    openai_api_key=\"dummy\",  # llama.cpp ignores this\n",
    "    model=\"mistral-nemo\",\n",
    ")\n",
    "\n",
    "agent = initialize_agent(\n",
    "  tools=tools,\n",
    "  llm=llama_model,\n",
    "  agent_type=AgentType.OPENAI_FUNCTIONS,\n",
    "  verbose=True,\n",
    ")\n",
    "\n",
    "response = agent.invoke(\"What's the weather like in New York?\")\n",
    "print(response)"
   ]
  }
 ],
 "metadata": {
  "kernelspec": {
   "display_name": "env",
   "language": "python",
   "name": "python3"
  },
  "language_info": {
   "codemirror_mode": {
    "name": "ipython",
    "version": 3
   },
   "file_extension": ".py",
   "mimetype": "text/x-python",
   "name": "python",
   "nbconvert_exporter": "python",
   "pygments_lexer": "ipython3",
   "version": "3.11.10"
  }
 },
 "nbformat": 4,
 "nbformat_minor": 5
}
